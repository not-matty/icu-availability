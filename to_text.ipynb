{
 "cells": [
  {
   "cell_type": "code",
   "execution_count": 1,
   "metadata": {},
   "outputs": [
    {
     "data": {
      "text/plain": [
       "'/Users/matthew/Documents/course-recommender/course_catalog_fin.txt'"
      ]
     },
     "execution_count": 1,
     "metadata": {},
     "output_type": "execute_result"
    }
   ],
   "source": [
    "import json\n",
    "\n",
    "# Define paths for input and output files\n",
    "jsonl_path = '/Users/matthew/Documents/course-recommender/course_catalog_fin.jsonl'\n",
    "text_path = '/Users/matthew/Documents/course-recommender/course_catalog_fin.txt'\n",
    "\n",
    "# Convert JSONL to plain text where each dialogue is a class with its parameters\n",
    "with open(jsonl_path, 'r') as jsonl_file, open(text_path, 'w') as text_file:\n",
    "    for line in jsonl_file:\n",
    "        try:\n",
    "            # Parse the JSON object from the current line\n",
    "            json_obj = json.loads(line)\n",
    "\n",
    "            # Create a text line from the class details\n",
    "            text_line = \" | \".join(f\"{key}: {value}\" for key, value in json_obj.items())\n",
    "\n",
    "            # Write the text line to the file\n",
    "            text_file.write(text_line + \"\\n\")\n",
    "        except json.JSONDecodeError as e:\n",
    "            print(f\"Error decoding JSON: {e}\")\n",
    "\n",
    "# Confirm completion\n",
    "text_path"
   ]
  }
 ],
 "metadata": {
  "kernelspec": {
   "display_name": "Python 3",
   "language": "python",
   "name": "python3"
  },
  "language_info": {
   "codemirror_mode": {
    "name": "ipython",
    "version": 3
   },
   "file_extension": ".py",
   "mimetype": "text/x-python",
   "name": "python",
   "nbconvert_exporter": "python",
   "pygments_lexer": "ipython3",
   "version": "3.12.7"
  }
 },
 "nbformat": 4,
 "nbformat_minor": 2
}
